{
 "cells": [
  {
   "cell_type": "code",
   "execution_count": null,
   "metadata": {},
   "outputs": [],
   "source": [
    "import warnings\n",
    "import XMUT\n",
    "warnings.filterwarnings(\"ignore\")\n",
    "sfp=XMUT.DataProvider.ShapeProvider()\n",
    "filelist=[\"river\",\"outlets\",\"raingauge\",\"subbasin\",\"tempgauge\"]\n",
    "for filename in filelist:\n",
    "    sfp.convert(r\"./data/shpfile/\"+filename+r\".shp\",\"\",r\"./data/kepler_data/\"+filename+\".json\",\"epsg:4326\")"
   ]
  },
  {
   "cell_type": "code",
   "execution_count": null,
   "metadata": {},
   "outputs": [],
   "source": [
    "import json\n",
    "import XMUT\n",
    "\n",
    "longtitude=118.01177670289091\n",
    "latitude=25.440411737132468\n",
    "zoom=10.76383577825254\n",
    "\n",
    "configuration=XMUT.MapConfiguration.Configuration()\n",
    "configuration.\n",
    "config=configuration.getConfig(latitude,longtitude,zoom)\n",
    "keplerMap=XMUT.MapGenerator.KeplerMap();\n",
    "filelist=[\"river\",\"outlets\",\"raingauge\",\"subbasin\",\"tempgauge\"]\n",
    "for filename in filelist:   \n",
    "    f=open(r\"./data/kepler_data/\"+filename+\".json\",\"r\")\n",
    "    data=json.load(f)\n",
    "    f.close()\n",
    "    keplerMap.addLayerInNoteBook(data,filename,config)\n",
    "    \n",
    "keplerMap.map.save_to_html(\"map1.html\")\n"
   ]
  },
  {
   "cell_type": "code",
   "execution_count": null,
   "metadata": {},
   "outputs": [],
   "source": []
  },
  {
   "cell_type": "code",
   "execution_count": null,
   "metadata": {},
   "outputs": [],
   "source": []
  }
 ],
 "metadata": {
  "kernelspec": {
   "display_name": "Python 3 (ipykernel)",
   "language": "python",
   "name": "python3"
  },
  "language_info": {
   "codemirror_mode": {
    "name": "ipython",
    "version": 3
   },
   "file_extension": ".py",
   "mimetype": "text/x-python",
   "name": "python",
   "nbconvert_exporter": "python",
   "pygments_lexer": "ipython3",
   "version": "3.11.1"
  }
 },
 "nbformat": 4,
 "nbformat_minor": 2
}
