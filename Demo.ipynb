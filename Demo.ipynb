{
 "cells": [
  {
   "attachments": {},
   "cell_type": "markdown",
   "metadata": {},
   "source": [
    "#### The following codes convert shapefiles to geojson files"
   ]
  },
  {
   "cell_type": "code",
   "execution_count": 3,
   "metadata": {},
   "outputs": [],
   "source": [
    "import warnings\n",
    "import XMUT\n",
    "warnings.filterwarnings(\"ignore\")\n",
    "sfp=XMUT.DataProvider.ShapeProvider()\n",
    "filelist=[\"rivers\",\"outlets\",\"raingauges\",\"subbasins\",\"tempgauges\"]\n",
    "for filename in filelist:\n",
    "    sfp.convert(r\"./data/shpfile/\"+filename+r\".shp\",r\"./data/kepler_data/\"+filename+\".json\",outputproject=\"epsg:4326\")"
   ]
  },
  {
   "attachments": {},
   "cell_type": "markdown",
   "metadata": {},
   "source": [
    "#### The following codes convert output.rch to geojson file"
   ]
  },
  {
   "cell_type": "code",
   "execution_count": null,
   "metadata": {},
   "outputs": [],
   "source": [
    "import XMUT\n",
    "import warnings\n",
    "warnings.filterwarnings(\"ignore\")\n",
    "rp=XMUT.DataProvider.RCHProvider()\n",
    "rp.convert(r\"./data/model/output.rch\",r\"./data/kepler_data/ts_rivers.json\",subnum=5,rivergeojson=r\"./data/kepler_data/rivers.json\",ciofile=r\"./data/model/file.cio\")"
   ]
  },
  {
   "attachments": {},
   "cell_type": "markdown",
   "metadata": {},
   "source": [
    "#### The following code convert output.sub to geojson file"
   ]
  },
  {
   "cell_type": "code",
   "execution_count": 1,
   "metadata": {},
   "outputs": [
    {
     "name": "stdout",
     "output_type": "stream",
     "text": [
      "User Guide: https://docs.kepler.gl/docs/keplergl-jupyter\n"
     ]
    }
   ],
   "source": [
    "import XMUT\n",
    "import warnings\n",
    "warnings.filterwarnings(\"ignore\")\n",
    "rp=XMUT.DataProvider.SUBProvider()\n",
    "rp.convert(r\"./data/model/output.sub\",r\"./data/kepler_data/ts_subbasins.json\",subnum=5,subgeojson=r\"./data/kepler_data/subbasins.json\",ciofile=r\"./data/model/file.cio\")"
   ]
  },
  {
   "attachments": {},
   "cell_type": "markdown",
   "metadata": {},
   "source": [
    "#### The following codes convert pcp1.pcp file (precipitation inputs) csv file"
   ]
  },
  {
   "cell_type": "code",
   "execution_count": null,
   "metadata": {},
   "outputs": [],
   "source": [
    "import XMUT\n",
    "import warnings\n",
    "warnings.filterwarnings(\"ignore\")\n",
    "rp=XMUT.DataProvider.PCPProvider()\n",
    "rp.convert(r\"./data/model/pcp1.pcp\",r\"./data/kepler_data/ts_raingauges.csv\")"
   ]
  },
  {
   "attachments": {},
   "cell_type": "markdown",
   "metadata": {},
   "source": [
    "#### Generate map configuration for visualizing discharge time series"
   ]
  },
  {
   "cell_type": "code",
   "execution_count": 1,
   "metadata": {},
   "outputs": [
    {
     "name": "stdout",
     "output_type": "stream",
     "text": [
      "User Guide: https://docs.kepler.gl/docs/keplergl-jupyter\n",
      "1199116800000\n"
     ]
    }
   ],
   "source": [
    "import XMUT\n",
    "import warnings\n",
    "warnings.filterwarnings(\"ignore\")\n",
    "ciofile=r\"./data/model/file.cio\"\n",
    "swatUtil=XMUT.DataProvider.Util.SWATUtil()\n",
    "startDate=swatUtil.getStartDate(swatiofile=ciofile)\n",
    "configuration = XMUT.MapConfiguration.Configuration()\n",
    "config=configuration.getTSRivers(\"ts_rivers_id\",startDate)"
   ]
  },
  {
   "attachments": {},
   "cell_type": "markdown",
   "metadata": {},
   "source": [
    "#### visualizing the discharge time series"
   ]
  },
  {
   "cell_type": "code",
   "execution_count": 2,
   "metadata": {},
   "outputs": [
    {
     "name": "stdout",
     "output_type": "stream",
     "text": [
      "{'version': 'v1', 'config': {'visState': {'filters': [{'dataId': ['ts_rivers_id'], 'id': 'e2v0aocqj', 'name': ['date'], 'type': 'timeRange', 'value': [1199116800000, 1199203200000], 'enlarged': True, 'plotType': 'lineChart', 'animationWindow': 'free', 'yAxis': {'name': 'discharge', 'type': 'real'}}], 'layers': [{'id': '3372ygbf', 'type': 'geojson', 'config': {'dataId': 'ts_rivers_id', 'label': 'ts_rivers', 'color': [18, 147, 154], 'columns': {'geojson': '_geojson'}, 'isVisible': True, 'visConfig': {'opacity': 0.8, 'strokeOpacity': 0.8, 'thickness': 4.1, 'strokeColor': None, 'colorRange': {'name': 'Global Warming', 'type': 'sequential', 'category': 'Uber', 'colors': ['#5A1846', '#900C3F', '#C70039', '#E3611C', '#F1920E', '#FFC300']}, 'strokeColorRange': {'name': 'Custom Palette', 'type': 'custom', 'category': 'Custom', 'colors': ['#6dbdc3', '#4BA7AF', '#00939C', '#018a92', '#005d62']}, 'radius': 10, 'sizeRange': [0, 2], 'radiusRange': [0, 50], 'heightRange': [0, 500], 'elevationScale': 5, 'stroked': True, 'filled': False, 'enable3d': False, 'wireframe': False}, 'hidden': False, 'textLabel': [{'field': None, 'color': [255, 255, 255], 'size': 18, 'offset': [0, 0], 'anchor': 'start', 'alignment': 'center'}]}, 'visualChannels': {'colorField': None, 'colorScale': 'quantile', 'sizeField': {'name': 'discharge', 'type': 'real'}, 'sizeScale': 'sqrt', 'strokeColorField': {'name': 'discharge', 'type': 'real'}, 'strokeColorScale': 'quantile', 'heightField': None, 'heightScale': 'linear', 'radiusField': None, 'radiusScale': 'linear'}}], 'interactionConfig': {'tooltip': {'fieldsToShow': {'ts_rivers_id': [{'name': 'OBJECTID', 'format': None}, {'name': 'ARCID', 'format': None}, {'name': 'GRID_CODE', 'format': None}, {'name': 'FROM_NODE', 'format': None}, {'name': 'TO_NODE', 'format': None}]}, 'compareMode': False, 'compareType': 'absolute', 'enabled': True}, 'brush': {'size': 0.5, 'enabled': False}, 'geocoder': {'enabled': False}, 'coordinate': {'enabled': False}}, 'layerBlending': 'normal', 'splitMaps': [], 'animationConfig': {'currentTime': None, 'speed': 1}}, 'mapState': {'bearing': 1.7306903622693106, 'dragRotate': True, 'latitude': 25.35280270561556, 'longitude': 117.98631566175419, 'pitch': 50.27522937918078, 'zoom': 10.76383577825254, 'isSplit': False}, 'mapStyle': {'styleType': 'satellite', 'topLayerGroups': {}, 'visibleLayerGroups': {}, 'threeDBuildingColor': [3.7245996603793508, 6.518049405663864, 13.036098811327728], 'mapStyles': {}}}}\n"
     ]
    },
    {
     "data": {
      "application/vnd.jupyter.widget-view+json": {
       "model_id": "606f6eec522342e790e915962d1546fc",
       "version_major": 2,
       "version_minor": 0
      },
      "text/plain": [
       "KeplerGl(config={'version': 'v1', 'config': {'visState': {'filters': [{'dataId': ['ts_rivers_id'], 'id': 'e2v0…"
      ]
     },
     "metadata": {},
     "output_type": "display_data"
    }
   ],
   "source": [
    "import XMUT\n",
    "import json\n",
    "import warnings\n",
    "warnings.filterwarnings(\"ignore\")\n",
    "keplerMap=XMUT.MapGenerator.KeplerMap()\n",
    "f=open(r\"./data/kepler_data/ts_rivers.json\",\"r\")\n",
    "data=json.load(f)\n",
    "f.close()\n",
    "keplerMap.addLayerInNoteBook(data,\"ts_rivers_id\",config)   \n",
    "print(keplerMap.map.config)\n",
    "keplerMap.map\n"
   ]
  },
  {
   "cell_type": "code",
   "execution_count": 3,
   "metadata": {},
   "outputs": [
    {
     "name": "stdout",
     "output_type": "stream",
     "text": [
      "{'version': 'v1', 'config': {'mapState': {'latitude': 25.443318578017355, 'longitude': 118.03048610768795, 'zoom': 10.76383577825254, 'bearing': 1.7306903622693106, 'dragRotate': True, 'pitch': 50.27522937918078, 'isSplit': False}, 'mapStyle': {'styleType': 'satellite'}}}\n",
      "Map saved to ./data/kepler_map/ts_subbasins.html!\n"
     ]
    }
   ],
   "source": [
    "import json\n",
    "import XMUT\n",
    "import warnings\n",
    "warnings.filterwarnings(\"ignore\")\n",
    "longtitude=118.01177670289091\n",
    "latitude=25.440411737132468\n",
    "sfp=XMUT.DataProvider.ShapeProvider()\n",
    "lon_lat=sfp.getCenter(\"./data/shpfile/subbasins.shp\",\"\",outputproject=\"epsg:4326\")\n",
    "zoom=10.76383577825254\n",
    "configuration=XMUT.MapConfiguration.Configuration()\n",
    "config=configuration.getConfig(*lon_lat,zoom)\n",
    "keplerMap=XMUT.MapGenerator.KeplerMap()\n",
    "f=open(r\"./data/kepler_data/ts_subbasins.json\",\"r\")\n",
    "data=json.load(f)\n",
    "f.close()\n",
    "keplerMap.addLayerInNoteBook(data,\"ts_subbasins_id\",config)   \n",
    "print(keplerMap.map.config)\n",
    "keplerMap.map.save_to_html(file_name=\"./data/kepler_map/ts_subbasins.html\")\n",
    "\n"
   ]
  },
  {
   "cell_type": "code",
   "execution_count": null,
   "metadata": {},
   "outputs": [],
   "source": []
  },
  {
   "cell_type": "code",
   "execution_count": 4,
   "metadata": {},
   "outputs": [
    {
     "data": {
      "text/plain": [
       "'           January 2003\\nMon  Tue  Wed  Thu  Fri  Sat  Sun\\n            1    2    3    4    5\\n  6    7    8    9   10   11   12\\n 13   14   15   16   17   18   19\\n 20   21   22   23   24   25   26\\n 27   28   29   30   31\\n'"
      ]
     },
     "execution_count": 4,
     "metadata": {},
     "output_type": "execute_result"
    }
   ],
   "source": [
    "import calendar\n",
    "calendar.month(2003,1,w=4,l=1)"
   ]
  },
  {
   "cell_type": "code",
   "execution_count": 18,
   "metadata": {
    "scrolled": false
   },
   "outputs": [
    {
     "data": {
      "application/vnd.jupyter.widget-view+json": {
       "model_id": "525359ae863442148d1bfd80c9fa3b1c",
       "version_major": 2,
       "version_minor": 0
      },
      "text/plain": [
       "KeplerGl(config={'version': 'v1', 'config': {'mapState': {'latitude': 25.443318578017355, 'longitude': 118.030…"
      ]
     },
     "metadata": {},
     "output_type": "display_data"
    }
   ],
   "source": [
    "import json\n",
    "import XMUT\n",
    "from jsonpath_ng import parse\n",
    "import warnings\n",
    "\n",
    "warnings.filterwarnings(\"ignore\")\n",
    "zoom = 10.76383577825254\n",
    "configuration = XMUT.MapConfiguration.Configuration()\n",
    "sfp = XMUT.DataProvider.ShapeProvider()\n",
    "center = sfp.getCenter(r\"./data/shpfile/subbasin.shp\", \"\", \"epsg:4326\")\n",
    "center.append(zoom)\n",
    "config = configuration.getConfig(*center)\n",
    "\n",
    "keplerMap = XMUT.MapGenerator.KeplerMap()\n",
    "\n",
    "filelist = [\"discharge_pb\", \"rivers\", \"subbasin\"]\n",
    "for filename in filelist:\n",
    "    f = open(r\"./data/kepler_data/\"+filename+\".json\", \"r\")\n",
    "    data = json.load(f)\n",
    "    f.close()\n",
    "    keplerMap.addLayerInNoteBook(data, filename, config)\n",
    "\n",
    "keplerMap.map\n",
    "\n",
    "\n"
   ]
  },
  {
   "cell_type": "code",
   "execution_count": 17,
   "metadata": {},
   "outputs": [
    {
     "name": "stdout",
     "output_type": "stream",
     "text": [
      "{'version': 'v1', 'config': {'visState': {'filters': [], 'layers': [{'id': 'zf1kxyj', 'type': 'trip', 'config': {'dataId': 'discharge', 'label': 'discharge', 'color': [18, 147, 154], 'columns': {'geojson': '_geojson'}, 'isVisible': True, 'visConfig': {'opacity': 0.8, 'thickness': 32.1, 'colorRange': {'name': 'Global Warming', 'type': 'sequential', 'category': 'Uber', 'colors': ['#5A1846', '#900C3F', '#C70039', '#E3611C', '#F1920E', '#FFC300']}, 'trailLength': 10000, 'sizeRange': [0, 10]}, 'hidden': False, 'textLabel': [{'field': None, 'color': [255, 255, 255], 'size': 18, 'offset': [0, 0], 'anchor': 'start', 'alignment': 'center'}]}, 'visualChannels': {'colorField': None, 'colorScale': 'quantile', 'sizeField': None, 'sizeScale': 'linear'}}, {'id': 'n2vre9v', 'type': 'geojson', 'config': {'dataId': 'rivers', 'label': 'rivers', 'color': [221, 178, 124], 'columns': {'geojson': '_geojson'}, 'isVisible': False, 'visConfig': {'opacity': 0.8, 'strokeOpacity': 0.8, 'thickness': 0.5, 'strokeColor': None, 'colorRange': {'name': 'Global Warming', 'type': 'sequential', 'category': 'Uber', 'colors': ['#5A1846', '#900C3F', '#C70039', '#E3611C', '#F1920E', '#FFC300']}, 'strokeColorRange': {'name': 'Global Warming', 'type': 'sequential', 'category': 'Uber', 'colors': ['#5A1846', '#900C3F', '#C70039', '#E3611C', '#F1920E', '#FFC300']}, 'radius': 10, 'sizeRange': [0, 10], 'radiusRange': [0, 50], 'heightRange': [0, 500], 'elevationScale': 5, 'stroked': True, 'filled': False, 'enable3d': False, 'wireframe': False}, 'hidden': False, 'textLabel': [{'field': None, 'color': [255, 255, 255], 'size': 18, 'offset': [0, 0], 'anchor': 'start', 'alignment': 'center'}]}, 'visualChannels': {'colorField': None, 'colorScale': 'quantile', 'sizeField': None, 'sizeScale': 'linear', 'strokeColorField': None, 'strokeColorScale': 'quantile', 'heightField': None, 'heightScale': 'linear', 'radiusField': None, 'radiusScale': 'linear'}}, {'id': '1p1h27e', 'type': 'geojson', 'config': {'dataId': 'subbasin', 'label': 'subbasin', 'color': [136, 87, 44], 'columns': {'geojson': '_geojson'}, 'isVisible': False, 'visConfig': {'opacity': 0.8, 'strokeOpacity': 0.8, 'thickness': 0.5, 'strokeColor': [255, 153, 31], 'colorRange': {'name': 'Global Warming', 'type': 'sequential', 'category': 'Uber', 'colors': ['#5A1846', '#900C3F', '#C70039', '#E3611C', '#F1920E', '#FFC300']}, 'strokeColorRange': {'name': 'Global Warming', 'type': 'sequential', 'category': 'Uber', 'colors': ['#5A1846', '#900C3F', '#C70039', '#E3611C', '#F1920E', '#FFC300']}, 'radius': 10, 'sizeRange': [0, 10], 'radiusRange': [0, 50], 'heightRange': [0, 500], 'elevationScale': 5, 'stroked': True, 'filled': True, 'enable3d': False, 'wireframe': False}, 'hidden': False, 'textLabel': [{'field': None, 'color': [255, 255, 255], 'size': 18, 'offset': [0, 0], 'anchor': 'start', 'alignment': 'center'}]}, 'visualChannels': {'colorField': None, 'colorScale': 'quantile', 'sizeField': None, 'sizeScale': 'linear', 'strokeColorField': None, 'strokeColorScale': 'quantile', 'heightField': None, 'heightScale': 'linear', 'radiusField': None, 'radiusScale': 'linear'}}], 'interactionConfig': {'tooltip': {'fieldsToShow': {'discharge': [{'name': 'OBJECTID', 'format': None}, {'name': 'ARCID', 'format': None}, {'name': 'GRID_CODE', 'format': None}, {'name': 'FROM_NODE', 'format': None}, {'name': 'TO_NODE', 'format': None}], 'rivers': [{'name': 'OBJECTID', 'format': None}, {'name': 'ARCID', 'format': None}, {'name': 'GRID_CODE', 'format': None}, {'name': 'FROM_NODE', 'format': None}, {'name': 'TO_NODE', 'format': None}], 'subbasin': [{'name': 'OBJECTID', 'format': None}, {'name': 'GRIDCODE', 'format': None}, {'name': 'Subbasin', 'format': None}, {'name': 'Area', 'format': None}, {'name': 'Lat', 'format': None}]}, 'compareMode': False, 'compareType': 'absolute', 'enabled': True}, 'brush': {'size': 0.5, 'enabled': False}, 'geocoder': {'enabled': False}, 'coordinate': {'enabled': False}}, 'layerBlending': 'normal', 'splitMaps': [], 'animationConfig': {'currentTime': 1200887450763.3413, 'speed': 1}}, 'mapState': {'bearing': 1.7306903622693106, 'dragRotate': True, 'latitude': 25.399943610101708, 'longitude': 118.0446168410522, 'pitch': 50.27522937918078, 'zoom': 9.226144952787893, 'isSplit': False}, 'mapStyle': {'styleType': 'satellite', 'topLayerGroups': {}, 'visibleLayerGroups': {}, 'threeDBuildingColor': [3.7245996603793508, 6.518049405663864, 13.036098811327728], 'mapStyles': {}}}}\n",
      "Map saved to ./data/kepler_map/map035nb.html!\n"
     ]
    }
   ],
   "source": [
    "from jsonpath_ng.ext import parse\n",
    "\n",
    "expression=parse(r'$.config.visState.layers[?config.dataId=\"discharge\"].config.visConfig.trailLength')\n",
    "xx=expression.update(keplerMap.map.config,10000)\n",
    "#print([str(match.value) for match in parse(r'$.config.visState.layers[?config.dataId=\"discharge\"].config.visConfig.trailLength').find(keplerMap.map.config)])\n",
    "print(xx)\n",
    "keplerMap.map.config=xx\n",
    "keplerMap.map.save_to_html(file_name=r\"./data/kepler_map/map035nb.html\")"
   ]
  },
  {
   "cell_type": "code",
   "execution_count": null,
   "metadata": {},
   "outputs": [],
   "source": []
  }
 ],
 "metadata": {
  "kernelspec": {
   "display_name": "Python 3 (ipykernel)",
   "language": "python",
   "name": "python3"
  },
  "language_info": {
   "codemirror_mode": {
    "name": "ipython",
    "version": 3
   },
   "file_extension": ".py",
   "mimetype": "text/x-python",
   "name": "python",
   "nbconvert_exporter": "python",
   "pygments_lexer": "ipython3",
   "version": "3.11.1"
  }
 },
 "nbformat": 4,
 "nbformat_minor": 2
}
