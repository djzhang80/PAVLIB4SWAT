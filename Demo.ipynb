{
 "cells": [
  {
   "cell_type": "markdown",
   "metadata": {},
   "source": [
    "### There are three use cases that demostrate the usage of PAVLIB4SWAT to render static data, animate tempospatial data, and run and compare different scenarios"
   ]
  },
  {
   "cell_type": "markdown",
   "metadata": {},
   "source": [
    "###### ------------------------------------------------------------------------------------------"
   ]
  },
  {
   "cell_type": "markdown",
   "metadata": {},
   "source": [
    "#### Case 1: visualizing static data"
   ]
  },
  {
   "cell_type": "markdown",
   "metadata": {},
   "source": [
    "##### Step 1: convert shapefiles to geojson"
   ]
  },
  {
   "cell_type": "code",
   "execution_count": 1,
   "metadata": {},
   "outputs": [
    {
     "name": "stdout",
     "output_type": "stream",
     "text": [
      "User Guide: https://docs.kepler.gl/docs/keplergl-jupyter\n"
     ]
    }
   ],
   "source": [
    "import warnings\n",
    "import XMUT\n",
    "warnings.filterwarnings(\"ignore\")\n",
    "sfp=XMUT.DataProvider.ShapeProvider()\n",
    "filelist=[\"rivers\",\"outlets\",\"raingauges\",\"subbasins\",\"tempgauges\"]\n",
    "for filename in filelist:\n",
    "    sfp.convert(r\"./data/shpfile/\"+filename+r\".shp\",r\"./data/kepler_data/\"+filename+\".json\",outputproject=\"epsg:4326\")"
   ]
  },
  {
   "cell_type": "markdown",
   "metadata": {},
   "source": [
    "##### Step 2 and 3: create map configuration and render static data"
   ]
  },
  {
   "cell_type": "code",
   "execution_count": 3,
   "metadata": {},
   "outputs": [
    {
     "name": "stdout",
     "output_type": "stream",
     "text": [
      "Map saved to ./map1.html!\n"
     ]
    }
   ],
   "source": [
    "import json\n",
    "import XMUT\n",
    "\n",
    "longtitude=118.01177670289091\n",
    "latitude=25.440411737132468\n",
    "zoom=10.76383577825254\n",
    "configuration=XMUT.MapConfiguration.Configuration()\n",
    "sfp=XMUT.DataProvider.ShapeProvider()\n",
    "center=sfp.getCenter(r\"./data/shpfile/subbasins.shp\",\"\",\"epsg:4326\")\n",
    "center.append(zoom)\n",
    "config=configuration.getBaseConfig(*center)\n",
    "keplerMap=XMUT.MapGenerator.KeplerMap();\n",
    "\n",
    "filelist=[\"rivers\",\"outlets\",\"raingauges\",\"subbasins\",\"tempgauges\"]\n",
    "for filename in filelist:   \n",
    "    f=open(r\"./data/kepler_data/\"+filename+\".json\",\"r\")\n",
    "    data=json.load(f)\n",
    "    f.close()\n",
    "    keplerMap.setConfigure(config=config)\n",
    "    keplerMap.addLayer(data,filename)\n",
    "    \n",
    "keplerMap.map.save_to_html(file_name=r\"./map1.html\")"
   ]
  },
  {
   "cell_type": "markdown",
   "metadata": {},
   "source": [
    "##### Result: If everything works fine, the generated map should be similar to the following graphic\n",
    "<img src=\"./data/screen_snapshot/map1.jpg\" alt=\"map1\" width=\"400\"/>"
   ]
  },
  {
   "cell_type": "markdown",
   "metadata": {},
   "source": [
    "###### ------------------------------------------------------------------------------------------"
   ]
  },
  {
   "cell_type": "markdown",
   "metadata": {},
   "source": [
    "#### Case 2: animate tempospatial data"
   ]
  },
  {
   "attachments": {},
   "cell_type": "markdown",
   "metadata": {},
   "source": [
    "##### Step 1: The following codes convert output.rch to geojson file"
   ]
  },
  {
   "cell_type": "code",
   "execution_count": 5,
   "metadata": {},
   "outputs": [],
   "source": [
    "import XMUT\n",
    "import warnings\n",
    "warnings.filterwarnings(\"ignore\")\n",
    "rp=XMUT.DataProvider.RCHProvider()\n",
    "rp.convert(r\"./data/model/output.rch\",r\"./data/kepler_data/ts_rivers.json\",subnum=5,rivergeojson=r\"./data/kepler_data/rivers.json\",ciofile=r\"./data/model/file.cio\")"
   ]
  },
  {
   "attachments": {},
   "cell_type": "markdown",
   "metadata": {},
   "source": [
    "##### Step 2: Generate map configuration for visualizing discharge time series"
   ]
  },
  {
   "cell_type": "code",
   "execution_count": 6,
   "metadata": {},
   "outputs": [],
   "source": [
    "import XMUT\n",
    "import warnings\n",
    "warnings.filterwarnings(\"ignore\")\n",
    "ciofile=r\"./data/model/file.cio\"\n",
    "swatUtil=XMUT.DataProvider.Util.SWATUtil()\n",
    "startDate=swatUtil.getStartDate(swatiofile=ciofile)\n",
    "configuration = XMUT.MapConfiguration.Configuration()\n",
    "config=configuration.getConfigByType(\"ts_rivers\",\"ts_rivers_id\",startDate)"
   ]
  },
  {
   "cell_type": "markdown",
   "metadata": {},
   "source": [
    "##### Step 3: animate tempospatial data"
   ]
  },
  {
   "cell_type": "code",
   "execution_count": 7,
   "metadata": {},
   "outputs": [
    {
     "name": "stdout",
     "output_type": "stream",
     "text": [
      "Map saved to ./map2.html!\n"
     ]
    }
   ],
   "source": [
    "import XMUT\n",
    "import json\n",
    "import warnings\n",
    "warnings.filterwarnings(\"ignore\")\n",
    "keplerMap=XMUT.MapGenerator.KeplerMap()\n",
    "f=open(r\"./data/kepler_data/ts_rivers.json\",\"r\")\n",
    "data=json.load(f)\n",
    "f.close()\n",
    "keplerMap.addLayer(data,\"ts_rivers_id\")\n",
    "keplerMap.setConfigure(config=config) \n",
    "  \n",
    "keplerMap.map.save_to_html(file_name=r\"./map2.html\")"
   ]
  },
  {
   "cell_type": "markdown",
   "metadata": {},
   "source": [
    "##### Result: If everything works fine, the generated map should be similar to the following graphic\n",
    "<img src=\"./data/screen_snapshot/map2.jpg\" alt=\"map2\" width=\"400\"/>"
   ]
  },
  {
   "cell_type": "markdown",
   "metadata": {},
   "source": [
    "###### ------------------------------------------------------------------------------------------"
   ]
  },
  {
   "cell_type": "markdown",
   "metadata": {},
   "source": [
    "#### Case 3: run and compare different scenarios"
   ]
  },
  {
   "cell_type": "markdown",
   "metadata": {},
   "source": [
    "##### Step 1: run scenario 1. In this scenario the parameter CN2 and ALPHA_BF are adjusted and saved to model inputs, and then model is executed and model output is stored to a file."
   ]
  },
  {
   "cell_type": "code",
   "execution_count": 1,
   "metadata": {},
   "outputs": [
    {
     "name": "stdout",
     "output_type": "stream",
     "text": [
      "User Guide: https://docs.kepler.gl/docs/keplergl-jupyter\n",
      "Command executed successfully\n",
      "Output: None\n",
      "Command executed successfully\n",
      "Output:                 SWAT2009               \n",
      "               Rev. 481               \n",
      "      Soil & Water Assessment Tool    \n",
      "               PC Version             \n",
      " Program reading from file.cio . . . executing\n",
      "\n",
      "  Executing year    1\n",
      "  Executing year    2\n",
      "  Executing year    3\n",
      "  Executing year    4\n",
      "  Executing year    5\n",
      "  Executing year    6\n",
      "  Executing year    7\n",
      "  Executing year    8\n",
      "\n",
      " Execution successfully completed \n",
      "\n",
      "Backup created successfully: ./data/model/output.bak1.rch\n"
     ]
    }
   ],
   "source": [
    "import XMUT\n",
    "\n",
    "paramerterEdit=XMUT.ModelEditingService.ModelParameterEditing()\n",
    "paramerterEdit.addCalibrationParameter(\"r__CN2.mgt\", \"0.8\")\n",
    "paramerterEdit.addCalibrationParameter(\"v__ALPHA_BF.gw\", \"0.94\")\n",
    "paramerterEdit.saveToModelIn(\"./data/model/\")\n",
    "paramerterEdit.invokeModel(\"./data/model/\",\"./data/model/output.bak1.rch\")\n"
   ]
  },
  {
   "cell_type": "markdown",
   "metadata": {},
   "source": [
    "##### Step 2: run scenario 2. Similar procedures of Step 1 are performed except the parameter values are different to those of the step 1."
   ]
  },
  {
   "cell_type": "code",
   "execution_count": 2,
   "metadata": {},
   "outputs": [
    {
     "name": "stdout",
     "output_type": "stream",
     "text": [
      "Command executed successfully\n",
      "Output: None\n",
      "Command executed successfully\n",
      "Output:                 SWAT2009               \n",
      "               Rev. 481               \n",
      "      Soil & Water Assessment Tool    \n",
      "               PC Version             \n",
      " Program reading from file.cio . . . executing\n",
      "\n",
      "  Executing year    1\n",
      "  Executing year    2\n",
      "  Executing year    3\n",
      "  Executing year    4\n",
      "  Executing year    5\n",
      "  Executing year    6\n",
      "  Executing year    7\n",
      "  Executing year    8\n",
      "\n",
      " Execution successfully completed \n",
      "\n",
      "Backup created successfully: ./data/model/output.bak2.rch\n"
     ]
    }
   ],
   "source": [
    "import XMUT\n",
    "\n",
    "paramerterEdit=XMUT.ModelEditingService.ModelParameterEditing()\n",
    "paramerterEdit.addCalibrationParameter(\"r__CN2.mgt\", \"1.2\")\n",
    "paramerterEdit.addCalibrationParameter(\"v__ALPHA_BF.gw\", \"0.54\")\n",
    "paramerterEdit.saveToModelIn(\"./data/model/\")\n",
    "paramerterEdit.invokeModel(\"./data/model/\",\"./data/model/output.bak2.rch\")\n"
   ]
  },
  {
   "cell_type": "markdown",
   "metadata": {},
   "source": [
    "##### Step 3: two scenarios' results are merged and the merged data is associated with river outlets."
   ]
  },
  {
   "cell_type": "code",
   "execution_count": 3,
   "metadata": {},
   "outputs": [
    {
     "data": {
      "text/plain": [
       "<Figure size 640x480 with 0 Axes>"
      ]
     },
     "metadata": {},
     "output_type": "display_data"
    },
    {
     "data": {
      "text/plain": [
       "<Figure size 640x480 with 0 Axes>"
      ]
     },
     "metadata": {},
     "output_type": "display_data"
    },
    {
     "data": {
      "text/plain": [
       "<Figure size 640x480 with 0 Axes>"
      ]
     },
     "metadata": {},
     "output_type": "display_data"
    },
    {
     "data": {
      "text/plain": [
       "<Figure size 640x480 with 0 Axes>"
      ]
     },
     "metadata": {},
     "output_type": "display_data"
    },
    {
     "data": {
      "text/plain": [
       "<Figure size 640x480 with 0 Axes>"
      ]
     },
     "metadata": {},
     "output_type": "display_data"
    }
   ],
   "source": [
    "%matplotlib inline\n",
    "import XMUT\n",
    "import warnings\n",
    "warnings.filterwarnings(\"ignore\")\n",
    "rp=XMUT.DataProvider.RCHScenarioProvider()\n",
    "rp.convert(r\"./data/model/output.bak1.rch\",r\"./data/kepler_data/ts_scenarios.json\",subnum=5,outlets=r\"./data/kepler_data/outlets.json\",ciofile=r\"./data/model/file.cio\",inputfile2=r\"./data/model/output.bak2.rch\")"
   ]
  },
  {
   "cell_type": "markdown",
   "metadata": {},
   "source": [
    "##### Step 4: generate map configuration."
   ]
  },
  {
   "cell_type": "code",
   "execution_count": 4,
   "metadata": {},
   "outputs": [],
   "source": [
    "import XMUT\n",
    "import warnings\n",
    "warnings.filterwarnings(\"ignore\")\n",
    "ciofile=r\"./data/model/file.cio\"\n",
    "swatUtil=XMUT.DataProvider.Util.SWATUtil()\n",
    "startDate=swatUtil.getStartDate(swatiofile=ciofile)\n",
    "configuration = XMUT.MapConfiguration.Configuration()\n",
    "config1=configuration.getConfigByType(\"rivers\",\"rivers_id\",startDate)\n",
    "config2=configuration.getConfigByType(\"scenarios\",\"ts_scenarios_id\",startDate)\n",
    "config=configuration.mergeConfig(config1,config2)"
   ]
  },
  {
   "cell_type": "markdown",
   "metadata": {},
   "source": [
    "##### Step 5: visualizing scenario results in map."
   ]
  },
  {
   "cell_type": "code",
   "execution_count": 5,
   "metadata": {},
   "outputs": [
    {
     "name": "stdout",
     "output_type": "stream",
     "text": [
      "Map saved to ./map3.html!\n"
     ]
    }
   ],
   "source": [
    "import XMUT\n",
    "import json\n",
    "import warnings\n",
    "warnings.filterwarnings(\"ignore\")\n",
    "keplerMap=XMUT.MapGenerator.KeplerMap()\n",
    "f=open(r\"./data/kepler_data/ts_scenarios.json\",\"r\")\n",
    "data=json.load(f)\n",
    "f.close()\n",
    "keplerMap.addLayer(data,\"ts_scenarios_id\")\n",
    "\n",
    "f=open(r\"./data/kepler_data/rivers.json\",\"r\")\n",
    "data=json.load(f)\n",
    "f.close()\n",
    "keplerMap.addLayer(data,\"rivers_id\")\n",
    "\n",
    "keplerMap.setConfigure(config=config) \n",
    "keplerMap.map.save_to_html(file_name=r\"./map3.html\")"
   ]
  },
  {
   "cell_type": "markdown",
   "metadata": {},
   "source": [
    "##### Result: If everything works fine, the generated map should be similar to the following graphic\n",
    "<img src=\"./data/screen_snapshot/map3.jpg\" alt=\"map3\" width=\"400\"/>"
   ]
  }
 ],
 "metadata": {
  "kernelspec": {
   "display_name": "Python 3 (ipykernel)",
   "language": "python",
   "name": "python3"
  },
  "language_info": {
   "codemirror_mode": {
    "name": "ipython",
    "version": 3
   },
   "file_extension": ".py",
   "mimetype": "text/x-python",
   "name": "python",
   "nbconvert_exporter": "python",
   "pygments_lexer": "ipython3",
   "version": "3.10.11"
  }
 },
 "nbformat": 4,
 "nbformat_minor": 2
}
